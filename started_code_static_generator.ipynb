{
 "cells": [
  {
   "cell_type": "code",
   "execution_count": 11,
   "metadata": {},
   "outputs": [],
   "source": [
    "import pandas as pd\n",
    "import random as r"
   ]
  },
  {
   "cell_type": "code",
   "execution_count": 1,
   "metadata": {},
   "outputs": [],
   "source": [
    "web = {\n",
    "    'header':'header.html',\n",
    "    'footer':'footer.html',\n",
    "    'content':''\n",
    "}"
   ]
  },
  {
   "cell_type": "code",
   "execution_count": 42,
   "metadata": {},
   "outputs": [],
   "source": [
    "def readfile(filename:str):\n",
    "    \"\"\"\n",
    "    takes in a file name and reads it\n",
    "    \"\"\"\n",
    "    with open(filename, \"r\") as file_handle:\n",
    "        file_contents = file_handle.read()\n",
    "        \n",
    "        return file_contents\n",
    "    \n",
    "def create_index(filename:str, filecontent: str):\n",
    "    with open(filename, \"w\") as file_handle:\n",
    "        file_handle.write(filecontent)"
   ]
  },
  {
   "cell_type": "code",
   "execution_count": 53,
   "metadata": {},
   "outputs": [],
   "source": [
    "create_index('index.html', index_content)"
   ]
  },
  {
   "cell_type": "code",
   "execution_count": 54,
   "metadata": {},
   "outputs": [],
   "source": [
    "header_content = readfile(web['header'])\n",
    "#print(header_content)"
   ]
  },
  {
   "cell_type": "code",
   "execution_count": 55,
   "metadata": {},
   "outputs": [],
   "source": [
    "footer_content = readfile(web['footer'])\n",
    "#print(footer_content)"
   ]
  },
  {
   "cell_type": "code",
   "execution_count": 46,
   "metadata": {},
   "outputs": [],
   "source": [
    "x = list(range(1,11))\n",
    "y = [r.randint(1,100) for i in x]\n",
    "\n",
    "data = {\n",
    "    'x': x,\n",
    "    'y': y\n",
    "}"
   ]
  },
  {
   "cell_type": "code",
   "execution_count": 47,
   "metadata": {},
   "outputs": [],
   "source": [
    "df= pd.DataFrame(data)"
   ]
  },
  {
   "cell_type": "code",
   "execution_count": 48,
   "metadata": {},
   "outputs": [
    {
     "data": {
      "text/html": [
       "<div>\n",
       "<style scoped>\n",
       "    .dataframe tbody tr th:only-of-type {\n",
       "        vertical-align: middle;\n",
       "    }\n",
       "\n",
       "    .dataframe tbody tr th {\n",
       "        vertical-align: top;\n",
       "    }\n",
       "\n",
       "    .dataframe thead th {\n",
       "        text-align: right;\n",
       "    }\n",
       "</style>\n",
       "<table border=\"1\" class=\"dataframe\">\n",
       "  <thead>\n",
       "    <tr style=\"text-align: right;\">\n",
       "      <th></th>\n",
       "      <th>x</th>\n",
       "      <th>y</th>\n",
       "    </tr>\n",
       "  </thead>\n",
       "  <tbody>\n",
       "    <tr>\n",
       "      <th>0</th>\n",
       "      <td>1</td>\n",
       "      <td>82</td>\n",
       "    </tr>\n",
       "    <tr>\n",
       "      <th>1</th>\n",
       "      <td>2</td>\n",
       "      <td>94</td>\n",
       "    </tr>\n",
       "    <tr>\n",
       "      <th>2</th>\n",
       "      <td>3</td>\n",
       "      <td>16</td>\n",
       "    </tr>\n",
       "    <tr>\n",
       "      <th>3</th>\n",
       "      <td>4</td>\n",
       "      <td>57</td>\n",
       "    </tr>\n",
       "    <tr>\n",
       "      <th>4</th>\n",
       "      <td>5</td>\n",
       "      <td>75</td>\n",
       "    </tr>\n",
       "    <tr>\n",
       "      <th>5</th>\n",
       "      <td>6</td>\n",
       "      <td>53</td>\n",
       "    </tr>\n",
       "    <tr>\n",
       "      <th>6</th>\n",
       "      <td>7</td>\n",
       "      <td>95</td>\n",
       "    </tr>\n",
       "    <tr>\n",
       "      <th>7</th>\n",
       "      <td>8</td>\n",
       "      <td>42</td>\n",
       "    </tr>\n",
       "    <tr>\n",
       "      <th>8</th>\n",
       "      <td>9</td>\n",
       "      <td>24</td>\n",
       "    </tr>\n",
       "    <tr>\n",
       "      <th>9</th>\n",
       "      <td>10</td>\n",
       "      <td>59</td>\n",
       "    </tr>\n",
       "  </tbody>\n",
       "</table>\n",
       "</div>"
      ],
      "text/plain": [
       "    x   y\n",
       "0   1  82\n",
       "1   2  94\n",
       "2   3  16\n",
       "3   4  57\n",
       "4   5  75\n",
       "5   6  53\n",
       "6   7  95\n",
       "7   8  42\n",
       "8   9  24\n",
       "9  10  59"
      ]
     },
     "execution_count": 48,
     "metadata": {},
     "output_type": "execute_result"
    }
   ],
   "source": [
    "df"
   ]
  },
  {
   "cell_type": "code",
   "execution_count": 49,
   "metadata": {},
   "outputs": [],
   "source": [
    "web['content'] = df.to_html(index=False, table_id = 'sales')"
   ]
  },
  {
   "cell_type": "code",
   "execution_count": 50,
   "metadata": {},
   "outputs": [
    {
     "data": {
      "text/plain": [
       "'<table border=\"1\" class=\"dataframe\" id=\"sales\">\\n  <thead>\\n    <tr style=\"text-align: right;\">\\n      <th>x</th>\\n      <th>y</th>\\n    </tr>\\n  </thead>\\n  <tbody>\\n    <tr>\\n      <td>1</td>\\n      <td>82</td>\\n    </tr>\\n    <tr>\\n      <td>2</td>\\n      <td>94</td>\\n    </tr>\\n    <tr>\\n      <td>3</td>\\n      <td>16</td>\\n    </tr>\\n    <tr>\\n      <td>4</td>\\n      <td>57</td>\\n    </tr>\\n    <tr>\\n      <td>5</td>\\n      <td>75</td>\\n    </tr>\\n    <tr>\\n      <td>6</td>\\n      <td>53</td>\\n    </tr>\\n    <tr>\\n      <td>7</td>\\n      <td>95</td>\\n    </tr>\\n    <tr>\\n      <td>8</td>\\n      <td>42</td>\\n    </tr>\\n    <tr>\\n      <td>9</td>\\n      <td>24</td>\\n    </tr>\\n    <tr>\\n      <td>10</td>\\n      <td>59</td>\\n    </tr>\\n  </tbody>\\n</table>'"
      ]
     },
     "execution_count": 50,
     "metadata": {},
     "output_type": "execute_result"
    }
   ],
   "source": [
    "web['content']"
   ]
  },
  {
   "cell_type": "code",
   "execution_count": 51,
   "metadata": {},
   "outputs": [],
   "source": [
    "index_content = header_content + web['content']+ footer_content"
   ]
  },
  {
   "cell_type": "code",
   "execution_count": 52,
   "metadata": {},
   "outputs": [
    {
     "data": {
      "text/plain": [
       "'<!DOCTYPE html>\\n<html lang=\"en\">\\n<head>\\n    <meta charset=\"UTF-8\">\\n    <meta name=\"viewport\" content=\"width=device-width, initial-scale=1.0\">\\n    <title>Github Web Page</title>\\n</head>\\n<body>\\n\\n<!-- anything above is default html header file -->\\n\\n<!-- page content auto generated by python script -->\\n \\n<table border=\"1\" class=\"dataframe\" id=\"sales\">\\n  <thead>\\n    <tr style=\"text-align: right;\">\\n      <th>x</th>\\n      <th>y</th>\\n    </tr>\\n  </thead>\\n  <tbody>\\n    <tr>\\n      <td>1</td>\\n      <td>82</td>\\n    </tr>\\n    <tr>\\n      <td>2</td>\\n      <td>94</td>\\n    </tr>\\n    <tr>\\n      <td>3</td>\\n      <td>16</td>\\n    </tr>\\n    <tr>\\n      <td>4</td>\\n      <td>57</td>\\n    </tr>\\n    <tr>\\n      <td>5</td>\\n      <td>75</td>\\n    </tr>\\n    <tr>\\n      <td>6</td>\\n      <td>53</td>\\n    </tr>\\n    <tr>\\n      <td>7</td>\\n      <td>95</td>\\n    </tr>\\n    <tr>\\n      <td>8</td>\\n      <td>42</td>\\n    </tr>\\n    <tr>\\n      <td>9</td>\\n      <td>24</td>\\n    </tr>\\n    <tr>\\n      <td>10</td>\\n      <td>59</td>\\n    </tr>\\n  </tbody>\\n</table><!-- content goes here and is generated by python-->\\n\\n</body>\\n</html>'"
      ]
     },
     "execution_count": 52,
     "metadata": {},
     "output_type": "execute_result"
    }
   ],
   "source": [
    "index_content"
   ]
  },
  {
   "cell_type": "code",
   "execution_count": null,
   "metadata": {},
   "outputs": [],
   "source": []
  },
  {
   "cell_type": "code",
   "execution_count": null,
   "metadata": {},
   "outputs": [],
   "source": []
  }
 ],
 "metadata": {
  "kernelspec": {
   "display_name": "Python [conda env:PythonData] *",
   "language": "python",
   "name": "conda-env-PythonData-py"
  },
  "language_info": {
   "codemirror_mode": {
    "name": "ipython",
    "version": 3
   },
   "file_extension": ".py",
   "mimetype": "text/x-python",
   "name": "python",
   "nbconvert_exporter": "python",
   "pygments_lexer": "ipython3",
   "version": "3.8.5"
  },
  "varInspector": {
   "cols": {
    "lenName": 16,
    "lenType": 16,
    "lenVar": 40
   },
   "kernels_config": {
    "python": {
     "delete_cmd_postfix": "",
     "delete_cmd_prefix": "del ",
     "library": "var_list.py",
     "varRefreshCmd": "print(var_dic_list())"
    },
    "r": {
     "delete_cmd_postfix": ") ",
     "delete_cmd_prefix": "rm(",
     "library": "var_list.r",
     "varRefreshCmd": "cat(var_dic_list()) "
    }
   },
   "types_to_exclude": [
    "module",
    "function",
    "builtin_function_or_method",
    "instance",
    "_Feature"
   ],
   "window_display": false
  }
 },
 "nbformat": 4,
 "nbformat_minor": 4
}
